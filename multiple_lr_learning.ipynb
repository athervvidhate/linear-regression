{
 "cells": [
  {
   "cell_type": "code",
   "execution_count": 22,
   "id": "e8acd4ad",
   "metadata": {},
   "outputs": [
    {
     "data": {
      "text/html": [
       "<div>\n",
       "<style scoped>\n",
       "    .dataframe tbody tr th:only-of-type {\n",
       "        vertical-align: middle;\n",
       "    }\n",
       "\n",
       "    .dataframe tbody tr th {\n",
       "        vertical-align: top;\n",
       "    }\n",
       "\n",
       "    .dataframe thead th {\n",
       "        text-align: right;\n",
       "    }\n",
       "</style>\n",
       "<table border=\"1\" class=\"dataframe\">\n",
       "  <thead>\n",
       "    <tr style=\"text-align: right;\">\n",
       "      <th></th>\n",
       "      <th>longitude</th>\n",
       "      <th>latitude</th>\n",
       "      <th>housing_median_age</th>\n",
       "      <th>total_rooms</th>\n",
       "      <th>total_bedrooms</th>\n",
       "      <th>population</th>\n",
       "      <th>households</th>\n",
       "      <th>median_income</th>\n",
       "      <th>median_house_value</th>\n",
       "    </tr>\n",
       "  </thead>\n",
       "  <tbody>\n",
       "    <tr>\n",
       "      <th>0</th>\n",
       "      <td>-114.31</td>\n",
       "      <td>34.19</td>\n",
       "      <td>15.0</td>\n",
       "      <td>5612.0</td>\n",
       "      <td>1283.0</td>\n",
       "      <td>1015.0</td>\n",
       "      <td>472.0</td>\n",
       "      <td>1.4936</td>\n",
       "      <td>66900.0</td>\n",
       "    </tr>\n",
       "    <tr>\n",
       "      <th>1</th>\n",
       "      <td>-114.47</td>\n",
       "      <td>34.40</td>\n",
       "      <td>19.0</td>\n",
       "      <td>7650.0</td>\n",
       "      <td>1901.0</td>\n",
       "      <td>1129.0</td>\n",
       "      <td>463.0</td>\n",
       "      <td>1.8200</td>\n",
       "      <td>80100.0</td>\n",
       "    </tr>\n",
       "    <tr>\n",
       "      <th>2</th>\n",
       "      <td>-114.56</td>\n",
       "      <td>33.69</td>\n",
       "      <td>17.0</td>\n",
       "      <td>720.0</td>\n",
       "      <td>174.0</td>\n",
       "      <td>333.0</td>\n",
       "      <td>117.0</td>\n",
       "      <td>1.6509</td>\n",
       "      <td>85700.0</td>\n",
       "    </tr>\n",
       "    <tr>\n",
       "      <th>3</th>\n",
       "      <td>-114.57</td>\n",
       "      <td>33.64</td>\n",
       "      <td>14.0</td>\n",
       "      <td>1501.0</td>\n",
       "      <td>337.0</td>\n",
       "      <td>515.0</td>\n",
       "      <td>226.0</td>\n",
       "      <td>3.1917</td>\n",
       "      <td>73400.0</td>\n",
       "    </tr>\n",
       "    <tr>\n",
       "      <th>4</th>\n",
       "      <td>-114.57</td>\n",
       "      <td>33.57</td>\n",
       "      <td>20.0</td>\n",
       "      <td>1454.0</td>\n",
       "      <td>326.0</td>\n",
       "      <td>624.0</td>\n",
       "      <td>262.0</td>\n",
       "      <td>1.9250</td>\n",
       "      <td>65500.0</td>\n",
       "    </tr>\n",
       "    <tr>\n",
       "      <th>...</th>\n",
       "      <td>...</td>\n",
       "      <td>...</td>\n",
       "      <td>...</td>\n",
       "      <td>...</td>\n",
       "      <td>...</td>\n",
       "      <td>...</td>\n",
       "      <td>...</td>\n",
       "      <td>...</td>\n",
       "      <td>...</td>\n",
       "    </tr>\n",
       "    <tr>\n",
       "      <th>16995</th>\n",
       "      <td>-124.26</td>\n",
       "      <td>40.58</td>\n",
       "      <td>52.0</td>\n",
       "      <td>2217.0</td>\n",
       "      <td>394.0</td>\n",
       "      <td>907.0</td>\n",
       "      <td>369.0</td>\n",
       "      <td>2.3571</td>\n",
       "      <td>111400.0</td>\n",
       "    </tr>\n",
       "    <tr>\n",
       "      <th>16996</th>\n",
       "      <td>-124.27</td>\n",
       "      <td>40.69</td>\n",
       "      <td>36.0</td>\n",
       "      <td>2349.0</td>\n",
       "      <td>528.0</td>\n",
       "      <td>1194.0</td>\n",
       "      <td>465.0</td>\n",
       "      <td>2.5179</td>\n",
       "      <td>79000.0</td>\n",
       "    </tr>\n",
       "    <tr>\n",
       "      <th>16997</th>\n",
       "      <td>-124.30</td>\n",
       "      <td>41.84</td>\n",
       "      <td>17.0</td>\n",
       "      <td>2677.0</td>\n",
       "      <td>531.0</td>\n",
       "      <td>1244.0</td>\n",
       "      <td>456.0</td>\n",
       "      <td>3.0313</td>\n",
       "      <td>103600.0</td>\n",
       "    </tr>\n",
       "    <tr>\n",
       "      <th>16998</th>\n",
       "      <td>-124.30</td>\n",
       "      <td>41.80</td>\n",
       "      <td>19.0</td>\n",
       "      <td>2672.0</td>\n",
       "      <td>552.0</td>\n",
       "      <td>1298.0</td>\n",
       "      <td>478.0</td>\n",
       "      <td>1.9797</td>\n",
       "      <td>85800.0</td>\n",
       "    </tr>\n",
       "    <tr>\n",
       "      <th>16999</th>\n",
       "      <td>-124.35</td>\n",
       "      <td>40.54</td>\n",
       "      <td>52.0</td>\n",
       "      <td>1820.0</td>\n",
       "      <td>300.0</td>\n",
       "      <td>806.0</td>\n",
       "      <td>270.0</td>\n",
       "      <td>3.0147</td>\n",
       "      <td>94600.0</td>\n",
       "    </tr>\n",
       "  </tbody>\n",
       "</table>\n",
       "<p>17000 rows × 9 columns</p>\n",
       "</div>"
      ],
      "text/plain": [
       "       longitude  latitude  housing_median_age  total_rooms  total_bedrooms  \\\n",
       "0        -114.31     34.19                15.0       5612.0          1283.0   \n",
       "1        -114.47     34.40                19.0       7650.0          1901.0   \n",
       "2        -114.56     33.69                17.0        720.0           174.0   \n",
       "3        -114.57     33.64                14.0       1501.0           337.0   \n",
       "4        -114.57     33.57                20.0       1454.0           326.0   \n",
       "...          ...       ...                 ...          ...             ...   \n",
       "16995    -124.26     40.58                52.0       2217.0           394.0   \n",
       "16996    -124.27     40.69                36.0       2349.0           528.0   \n",
       "16997    -124.30     41.84                17.0       2677.0           531.0   \n",
       "16998    -124.30     41.80                19.0       2672.0           552.0   \n",
       "16999    -124.35     40.54                52.0       1820.0           300.0   \n",
       "\n",
       "       population  households  median_income  median_house_value  \n",
       "0          1015.0       472.0         1.4936             66900.0  \n",
       "1          1129.0       463.0         1.8200             80100.0  \n",
       "2           333.0       117.0         1.6509             85700.0  \n",
       "3           515.0       226.0         3.1917             73400.0  \n",
       "4           624.0       262.0         1.9250             65500.0  \n",
       "...           ...         ...            ...                 ...  \n",
       "16995       907.0       369.0         2.3571            111400.0  \n",
       "16996      1194.0       465.0         2.5179             79000.0  \n",
       "16997      1244.0       456.0         3.0313            103600.0  \n",
       "16998      1298.0       478.0         1.9797             85800.0  \n",
       "16999       806.0       270.0         3.0147             94600.0  \n",
       "\n",
       "[17000 rows x 9 columns]"
      ]
     },
     "execution_count": 22,
     "metadata": {},
     "output_type": "execute_result"
    }
   ],
   "source": [
    "import numpy as np\n",
    "import pandas as pd\n",
    "import matplotlib.pyplot as plt\n",
    "\n",
    "df = pd.read_csv('california_housing_train.csv')\n",
    "df"
   ]
  },
  {
   "cell_type": "markdown",
   "id": "c8dd100b",
   "metadata": {},
   "source": [
    "# Multiple Linear Regression"
   ]
  },
  {
   "cell_type": "code",
   "execution_count": 52,
   "id": "1c1d471c",
   "metadata": {},
   "outputs": [],
   "source": [
    "example = df.head()\n",
    "\n",
    "# Feature scaling\n",
    "example_x = example.drop(['median_house_value'], axis=1).to_numpy()\n",
    "example_y = example['median_house_value'].to_numpy()\n",
    "\n",
    "mean_x = np.mean(example_x, axis=0)\n",
    "std_dev_x = np.std(example_x, axis=0)\n",
    "mean_y = np.mean(example_y)\n",
    "std_dev_y = np.std(example_y)\n",
    "\n",
    "\n",
    "# Handle cases where standard deviation is zero to avoid division by zero\n",
    "std_dev_x[std_dev_x == 0] = 1e-9\n",
    "std_dev_y = std_dev_y if std_dev_y != 0 else 1e-9\n",
    "\n",
    "example_x_scaled = (example_x - mean_x) / std_dev_x\n",
    "example_y_scaled = (example_y - mean_y) / std_dev_y"
   ]
  },
  {
   "cell_type": "code",
   "execution_count": 53,
   "id": "d0241e45",
   "metadata": {},
   "outputs": [
    {
     "data": {
      "text/plain": [
       "((5, 8), (5,))"
      ]
     },
     "execution_count": 53,
     "metadata": {},
     "output_type": "execute_result"
    }
   ],
   "source": [
    "example_x_scaled.shape, example_y_scaled.shape"
   ]
  },
  {
   "cell_type": "code",
   "execution_count": null,
   "id": "649fe9cc",
   "metadata": {},
   "outputs": [],
   "source": [
    "# Random initial values for weights\n",
    "w = np.random.randn(example_x_scaled.shape[1]) * 0.01\n",
    "b = 0"
   ]
  },
  {
   "cell_type": "code",
   "execution_count": 43,
   "id": "5d8f535b",
   "metadata": {},
   "outputs": [],
   "source": [
    "def predict(X,w,b):\n",
    "    m = X.shape[0]\n",
    "\n",
    "    y_pred = np.zeros(m)\n",
    "\n",
    "    for i in range(m):\n",
    "        y_pred[i] = np.dot(w, X[i]) + b\n",
    "    \n",
    "    return y_pred"
   ]
  },
  {
   "cell_type": "code",
   "execution_count": null,
   "id": "284f3718",
   "metadata": {},
   "outputs": [
    {
     "data": {
      "text/plain": [
       "(array([-37.09281411, -52.07359327,  -5.11006848,  -9.81397557,\n",
       "         -9.57700345]),\n",
       " array([66900., 80100., 85700., 73400., 65500.]))"
      ]
     },
     "execution_count": 44,
     "metadata": {},
     "output_type": "execute_result"
    }
   ],
   "source": [
    "y_hat = predict(example_x_scaled,w,b)\n",
    "y_hat, example_y"
   ]
  },
  {
   "cell_type": "code",
   "execution_count": 45,
   "id": "1e16179d",
   "metadata": {},
   "outputs": [],
   "source": [
    "def plot_preds_vs_true(X,y,w,b):\n",
    "    y_pred = predict(X,w,b)\n",
    "    X_pts = np.arange(0,X.shape[0])\n",
    "\n",
    "    plt.figure(figsize=(5,4))\n",
    "    plt.scatter(X_pts, y_pred, color='red', label='y_pred')\n",
    "    plt.scatter(X_pts, y, color='blue', label='y_true')\n",
    "    plt.legend()"
   ]
  },
  {
   "cell_type": "code",
   "execution_count": 54,
   "id": "0c035485",
   "metadata": {},
   "outputs": [
    {
     "data": {
      "image/png": "[encoded data removed]",
      "text/plain": [
       "<Figure size 500x400 with 1 Axes>"
      ]
     },
     "metadata": {},
     "output_type": "display_data"
    }
   ],
   "source": [
    "plot_preds_vs_true(example_x_scaled, example_y_scaled, w, b)"
   ]
  },
  {
   "cell_type": "markdown",
   "id": "a227e5c1",
   "metadata": {},
   "source": [
    "## MSE Loss Function (MLR)"
   ]
  },
  {
   "cell_type": "code",
   "execution_count": 55,
   "id": "36813002",
   "metadata": {},
   "outputs": [],
   "source": [
    "def calculate_error(X,y,w,b):\n",
    "    m = X.shape[0]\n",
    "\n",
    "    y_pred = predict(X,w,b)\n",
    "\n",
    "    # MSE function\n",
    "    sum = np.sum((y_pred - y)**2)\n",
    "    residual = sum / (2 * m)\n",
    "    return residual"
   ]
  },
  {
   "cell_type": "code",
   "execution_count": 57,
   "id": "c283d28e",
   "metadata": {},
   "outputs": [
    {
     "data": {
      "text/plain": [
       "np.float64(0.5038608970730015)"
      ]
     },
     "execution_count": 57,
     "metadata": {},
     "output_type": "execute_result"
    }
   ],
   "source": [
    "# Error is very low here, which is great! If we didn't standardize the variables, the error would be huge.\n",
    "calculate_error(example_x_scaled, example_y_scaled, w, b)"
   ]
  },
  {
   "cell_type": "markdown",
   "id": "247e8cab",
   "metadata": {},
   "source": [
    "## Gradient Descent"
   ]
  },
  {
   "cell_type": "code",
   "execution_count": 58,
   "id": "cebbcbe1",
   "metadata": {},
   "outputs": [],
   "source": [
    "def grad_step(X, y, w, b):\n",
    "    # Number of training examples\n",
    "    m = X.shape[0]\n",
    "\n",
    "    # Number of features\n",
    "    n = X.shape[1]\n",
    "\n",
    "    partial_dw = np.zeros(n)\n",
    "    partial_db = 0\n",
    "\n",
    "    for i in range(m):\n",
    "        error = np.dot(w, X[i]) + b - y[i]\n",
    "\n",
    "        partial_dw += error * X[i]\n",
    "        partial_db += error\n",
    "\n",
    "    partial_dw /= m    \n",
    "    partial_db /= m\n",
    "\n",
    "    return partial_dw, partial_db"
   ]
  },
  {
   "cell_type": "code",
   "execution_count": 61,
   "id": "dbcc7ecc",
   "metadata": {},
   "outputs": [],
   "source": [
    "def gradient_descent(X, y, w, b, epochs=1000, alpha=0.001, log_interval=100):\n",
    "    history = {}\n",
    "\n",
    "    for epoch in range(epochs):\n",
    "        partial_dw, partial_db = grad_step(X,y,w,b)\n",
    "\n",
    "        w = w - alpha*partial_dw\n",
    "        b = b - alpha*partial_db\n",
    "\n",
    "        if epoch % log_interval == 0:\n",
    "            cost = calculate_error(X,y,w,b)\n",
    "            history[epoch] = cost\n",
    "\n",
    "            print(f\"Iteration {epoch} - Cost: {cost}\")\n",
    "    return history, w, b"
   ]
  },
  {
   "cell_type": "code",
   "execution_count": 63,
   "id": "cbc12ad6",
   "metadata": {},
   "outputs": [
    {
     "name": "stdout",
     "output_type": "stream",
     "text": [
      "Iteration 0 - Cost: 0.5035342831234955\n",
      "Iteration 100 - Cost: 0.4750878264110505\n",
      "Iteration 200 - Cost: 0.45156259814156813\n",
      "Iteration 300 - Cost: 0.4305063493197858\n",
      "Iteration 400 - Cost: 0.411024715369577\n",
      "Iteration 500 - Cost: 0.3927466560462455\n",
      "Iteration 600 - Cost: 0.3754854025885065\n",
      "Iteration 700 - Cost: 0.3591254212247974\n",
      "Iteration 800 - Cost: 0.34358327669627603\n",
      "Iteration 900 - Cost: 0.32879300235990544\n"
     ]
    }
   ],
   "source": [
    "history_ex, w_new_ex, b_new_ex = gradient_descent(example_x_scaled, example_y_scaled, w, b)"
   ]
  },
  {
   "cell_type": "markdown",
   "id": "e0157124",
   "metadata": {},
   "source": [
    "## Scale Up: Run Model on Entire Dataset\n"
   ]
  },
  {
   "cell_type": "code",
   "execution_count": 65,
   "id": "6f350fb3",
   "metadata": {},
   "outputs": [
    {
     "name": "stdout",
     "output_type": "stream",
     "text": [
      "Iteration 0 - Cost: 0.49996825762199626\n",
      "Iteration 100 - Cost: 0.4515847433983663\n",
      "Iteration 200 - Cost: 0.4120765594416468\n",
      "Iteration 300 - Cost: 0.3796552627237818\n",
      "Iteration 400 - Cost: 0.35295421443442265\n",
      "Iteration 500 - Cost: 0.330901064327705\n",
      "Iteration 600 - Cost: 0.31264034241516997\n",
      "Iteration 700 - Cost: 0.2974826387689562\n",
      "Iteration 800 - Cost: 0.2848688923108242\n",
      "Iteration 900 - Cost: 0.2743439610405125\n"
     ]
    }
   ],
   "source": [
    "X = df.drop(['median_house_value'], axis=1).to_numpy()\n",
    "y = df['median_house_value'].to_numpy()\n",
    "\n",
    "# Scale the full dataset\n",
    "mean_x = np.mean(X, axis=0)\n",
    "std_dev_x = np.std(X, axis=0)\n",
    "mean_y = np.mean(y)\n",
    "std_dev_y = np.std(y)\n",
    "\n",
    "# Handle cases where standard deviation is zero to avoid division by zero\n",
    "std_dev_x[std_dev_x == 0] = 1e-9\n",
    "std_dev_y = std_dev_y if std_dev_y != 0 else 1e-9\n",
    "\n",
    "X_scaled = (X - mean_x) / std_dev_x\n",
    "y_scaled = (y - mean_y) / std_dev_y\n",
    "\n",
    "# Random initial values for weights\n",
    "w = np.random.randn(X_scaled.shape[1]) * 0.001 # Smaller initial weights\n",
    "b = 0\n",
    "\n",
    "history, w_new, b_new = gradient_descent(X_scaled, y_scaled, w, b)"
   ]
  },
  {
   "cell_type": "code",
   "execution_count": null,
   "id": "5b6a9869",
   "metadata": {},
   "outputs": [],
   "source": []
  }
 ],
 "metadata": {
  "kernelspec": {
   "display_name": "dsc80",
   "language": "python",
   "name": "python3"
  },
  "language_info": {
   "codemirror_mode": {
    "name": "ipython",
    "version": 3
   },
   "file_extension": ".py",
   "mimetype": "text/x-python",
   "name": "python",
   "nbconvert_exporter": "python",
   "pygments_lexer": "ipython3",
   "version": "3.12.6"
  }
 },
 "nbformat": 4,
 "nbformat_minor": 5
}
